{
 "cells": [
  {
   "cell_type": "code",
   "execution_count": 113,
   "id": "47d4016f",
   "metadata": {
    "kernel": "Haskell",
    "scrolled": true
   },
   "outputs": [
    {
     "name": "stderr",
     "output_type": "stream",
     "text": [
      "ihaskell: Bad interface file: /Users/ericdownes/.stack/programs/aarch64-osx/ghc-9.2.5/lib/ghc-9.2.5/lib/../lib/aarch64-osx-ghc-9.2.5/base-4.16.4.0/Prelude.hi\n",
      "    magic number mismatch: old/corrupt interface file? (wanted 33214052, got 1)\n",
      "Bad interface file: /Users/ericdownes/.stack/programs/aarch64-osx/ghc-9.2.5/lib/ghc-9.2.5/lib/../lib/aarch64-osx-ghc-9.2.5/directory-1.3.6.2/System/Directory.hi\n",
      "    magic number mismatch: old/corrupt interface file? (wanted 33214052, got 1)\n",
      "Bad interface file: /Users/ericdownes/.stack/programs/aarch64-osx/ghc-9.2.5/lib/ghc-9.2.5/lib/../lib/aarch64-osx-ghc-9.2.5/unix-2.7.2.2/System/Posix/IO.hi\n",
      "    magic number mismatch: old/corrupt interface file? (wanted 33214052, got 1)\n",
      "Bad interface file: /Users/ericdownes/.stack/programs/aarch64-osx/ghc-9.2.5/lib/ghc-9.2.5/lib/../lib/aarch64-osx-ghc-9.2.5/base-4.16.4.0/System/IO.hi\n",
      "    magic number mismatch: old/corrupt interface file? (wanted 33214052, got 1)\n",
      "Bad interface file: /Users/ericdownes/.stack/programs/aarch64-osx/ghc-9.2.5/lib/ghc-9.2.5/lib/../lib/aarch64-osx-ghc-9.2.5/template-haskell-2.18.0.0/Language/Haskell/TH.hi\n",
      "    magic number mismatch: old/corrupt interface file? (wanted 33214052, got 1)\n",
      "\n"
     ]
    },
    {
     "ename": "RuntimeError",
     "evalue": "Failed to start kernel \"Haskell\". Kernel died before replying to kernel_info\nError Message:\nihaskell: Bad interface file: /Users/ericdownes/.stack/programs/aarch64-osx/ghc-9.2.5/lib/ghc-9.2.5/lib/../lib/aarch64-osx-ghc-9.2.5/base-4.16.4.0/Prelude.hi\n    magic number mismatch: old/corrupt interface file? (wanted 33214052, got 1)\nBad interface file: /Users/ericdownes/.stack/programs/aarch64-osx/ghc-9.2.5/lib/ghc-9.2.5/lib/../lib/aarch64-osx-ghc-9.2.5/directory-1.3.6.2/System/Directory.hi\n    magic number mismatch: old/corrupt interface file? (wanted 33214052, got 1)\nBad interface file: /Users/ericdownes/.stack/programs/aarch64-osx/ghc-9.2.5/lib/ghc-9.2.5/lib/../lib/aarch64-osx-ghc-9.2.5/unix-2.7.2.2/System/Posix/IO.hi\n    magic number mismatch: old/corrupt interface file? (wanted 33214052, got 1)\nBad interface file: /Users/ericdownes/.stack/programs/aarch64-osx/ghc-9.2.5/lib/ghc-9.2.5/lib/../lib/aarch64-osx-ghc-9.2.5/base-4.16.4.0/System/IO.hi\n    magic number mismatch: old/corrupt interface file? (wanted 33214052, got 1)\nBad interface file: /Users/ericdownes/.stack/programs/aarch64-osx/ghc-9.2.5/lib/ghc-9.2.5/lib/../lib/aarch64-osx-ghc-9.2.5/template-haskell-2.18.0.0/Language/Haskell/TH.hi\n    magic number mismatch: old/corrupt interface file? (wanted 33214052, got 1)\n\n",
     "output_type": "error",
     "traceback": [
      "\u001b[91mFailed to start kernel \"Haskell\". Kernel died before replying to kernel_info\nError Message:\nihaskell: Bad interface file: /Users/ericdownes/.stack/programs/aarch64-osx/ghc-9.2.5/lib/ghc-9.2.5/lib/../lib/aarch64-osx-ghc-9.2.5/base-4.16.4.0/Prelude.hi\n    magic number mismatch: old/corrupt interface file? (wanted 33214052, got 1)\nBad interface file: /Users/ericdownes/.stack/programs/aarch64-osx/ghc-9.2.5/lib/ghc-9.2.5/lib/../lib/aarch64-osx-ghc-9.2.5/directory-1.3.6.2/System/Directory.hi\n    magic number mismatch: old/corrupt interface file? (wanted 33214052, got 1)\nBad interface file: /Users/ericdownes/.stack/programs/aarch64-osx/ghc-9.2.5/lib/ghc-9.2.5/lib/../lib/aarch64-osx-ghc-9.2.5/unix-2.7.2.2/System/Posix/IO.hi\n    magic number mismatch: old/corrupt interface file? (wanted 33214052, got 1)\nBad interface file: /Users/ericdownes/.stack/programs/aarch64-osx/ghc-9.2.5/lib/ghc-9.2.5/lib/../lib/aarch64-osx-ghc-9.2.5/base-4.16.4.0/System/IO.hi\n    magic number mismatch: old/corrupt interface file? (wanted 33214052, got 1)\nBad interface file: /Users/ericdownes/.stack/programs/aarch64-osx/ghc-9.2.5/lib/ghc-9.2.5/lib/../lib/aarch64-osx-ghc-9.2.5/template-haskell-2.18.0.0/Language/Haskell/TH.hi\n    magic number mismatch: old/corrupt interface file? (wanted 33214052, got 1)\n\n\u001b[0m"
     ]
    }
   ],
   "source": [
    "-- ihaskell not working\n",
    "-- for now using https://tryhaskell.org/\n",
    "1+1"
   ]
  },
  {
   "cell_type": "code",
   "execution_count": 3,
   "id": "f15cf114",
   "metadata": {
    "kernel": "Scala"
   },
   "outputs": [],
   "source": [
    "/* complains === not a member of Helper.this.A etc. ...\n",
    "type A = Any\n",
    "type B = Any\n",
    "type C = Any\n",
    "type D = Any\n",
    "val f: A => B\n",
    "val g: B => C\n",
    "val h: C => D\n",
    "(h compose g) compose f === h compose (g compose f)\n",
    "// can do extensional fcn equiv proving in Agda...\n",
    "// https://armkeh.github.io/blog/EqualityOfFunctions.html\n",
    "*/"
   ]
  },
  {
   "cell_type": "code",
   "execution_count": 15,
   "id": "4eb78d75",
   "metadata": {
    "kernel": "Scala",
    "scrolled": false
   },
   "outputs": [
    {
     "data": {
      "text/plain": [
       "defined \u001b[32mfunction\u001b[39m \u001b[36midentity\u001b[39m\n",
       "\u001b[36mres8_1\u001b[39m: \u001b[32mInt\u001b[39m = \u001b[32m22\u001b[39m\n",
       "\u001b[36mres8_2\u001b[39m: \u001b[32mString\u001b[39m = \u001b[32m\"22\"\u001b[39m\n",
       "\u001b[36mres8_3\u001b[39m: \u001b[32mInt\u001b[39m = \u001b[32m22\u001b[39m\n",
       "defined \u001b[32mfunction\u001b[39m \u001b[36madd\u001b[39m\n",
       "\u001b[36mres8_5\u001b[39m: \u001b[32mInt\u001b[39m = \u001b[32m23\u001b[39m"
      ]
     },
     "execution_count": 15,
     "metadata": {},
     "output_type": "execute_result"
    }
   ],
   "source": [
    "/* why does this need the [A] ... */\n",
    "def identity[A](a: A): A = a\n",
    "identity(22)\n",
    "identity(\"22\")\n",
    "\"22\".toInt\n",
    "/* but this does not */\n",
    "def add(a: Int, b: Int): Int = a + b\n",
    "add(22,1)"
   ]
  },
  {
   "cell_type": "code",
   "execution_count": 107,
   "id": "3a97993f",
   "metadata": {
    "kernel": "Python 3 (ipykernel)"
   },
   "outputs": [
    {
     "data": {
      "text/plain": [
       "'A directed graph is a category when\\n- it is transitive: a->b, b-> => exists a->c\\n- every node has a self-edge: a->a\\n'"
      ]
     },
     "execution_count": 107,
     "metadata": {},
     "output_type": "execute_result"
    }
   ],
   "source": [
    "# Challenge 1\n",
    "from typing import *\n",
    "import numpy as np\n",
    "\n",
    "def identity(x: Any) -> Any: \n",
    "    return x\n",
    "(identity(22), identity(\"22\"))\n",
    "\n",
    "# 2\n",
    "def compose(f:Callable, g:Callable) -> Callable:\n",
    "    return lambda *args, **kwargs: g(f(*args, **kwargs))\n",
    "assert compose(int, lambda x: [x])(22) == [22]\n",
    "\n",
    "# 3 \n",
    "import random\n",
    "def random_thing(t:type) -> Any:\n",
    "    x = random.randint(0,22)\n",
    "    if t in {int,str,bytes,float}:\n",
    "        return t(x)\n",
    "    if t is list:\n",
    "        return [x] * x\n",
    "    if t is dict:\n",
    "        return {str(x):x, bytes(x):x}\n",
    "    if t is tuple:\n",
    "        return (x)\n",
    "    if t is bytes:\n",
    "        return b'17' * x\n",
    "    if t is set:\n",
    "        return {x}\n",
    "    if callable(t):\n",
    "        return lambda : x\n",
    "    return None\n",
    "\n",
    "for typ in (int,str,list,set,dict,bytes,tuple,  lambda : None):\n",
    "    x = typ()\n",
    "    assert x == identity(x)\n",
    "    y = random_thing(typ)\n",
    "    assert y == identity(y)\n",
    "\n",
    "# 4\n",
    "'''following links is associative when the property of concern \n",
    "is what webpage your browser is pointing at, after following the link.\n",
    "You must formally adjoin an identity \"stay where you are\"'''\n",
    "\n",
    "# 5\n",
    "'''friendships not associative (transitive)'''\n",
    "\n",
    "#6\n",
    "'''A directed graph is a category when\n",
    "- it is transitive: a->b, b-> => exists a->c\n",
    "- every node has a self-edge: a->a\n",
    "'''"
   ]
  },
  {
   "cell_type": "code",
   "execution_count": 112,
   "id": "cce00e68",
   "metadata": {
    "kernel": "Scala",
    "scrolled": true
   },
   "outputs": [
    {
     "name": "stdout",
     "output_type": "stream",
     "text": [
      "0\n",
      "1\n",
      "2\n",
      "3\n",
      "4\n",
      "5\n"
     ]
    },
    {
     "data": {
      "text/plain": [
       "defined \u001b[32mfunction\u001b[39m \u001b[36midentity\u001b[39m\n",
       "defined \u001b[32mfunction\u001b[39m \u001b[36mcomp\u001b[39m\n",
       "defined \u001b[32mfunction\u001b[39m \u001b[36mAssertId\u001b[39m\n",
       "defined \u001b[32mfunction\u001b[39m \u001b[36mrandomThing\u001b[39m"
      ]
     },
     "execution_count": 112,
     "metadata": {},
     "output_type": "execute_result"
    }
   ],
   "source": [
    "// 1\n",
    "def identity[T](a: T): T = a\n",
    "assert(identity(22) == 22)\n",
    "assert(identity(\"22\") == \"22\")\n",
    "\n",
    "// 2\n",
    "def comp[A,C](f: A=>Any, g: Any=>C): (A=>C) = {\n",
    "    def gof(x:A): C = g(f(x))\n",
    "    gof\n",
    "}\n",
    "\n",
    "// 3\n",
    "def AssertId[T](a: T) () = {\n",
    "    assert(a == identity(a))\n",
    "}\n",
    "\n",
    "def randomThing(w:Int): AnyVal = {\n",
    "    val v = Array[Byte](1)\n",
    "    scala.util.Random.nextBytes(v)\n",
    "    w % 6 match {\n",
    "        case 0 => return v(0).asInstanceOf[Short]\n",
    "        case 1 => return v(0).asInstanceOf[Int]\n",
    "        case 2 => return v(0).asInstanceOf[Long]\n",
    "        case 3 => return v(0).asInstanceOf[Float]\n",
    "        case 4 => return v(0).asInstanceOf[Double]\n",
    "        case 5 => return v(0)\n",
    "}}\n",
    "for (i:Int <- 0 to 5) {\n",
    "    AssertId(randomThing(i))\n",
    "}"
   ]
  },
  {
   "cell_type": "code",
   "execution_count": null,
   "id": "6fc827b5",
   "metadata": {
    "kernel": "Scala"
   },
   "outputs": [],
   "source": []
  }
 ],
 "metadata": {
  "kernelspec": {
   "display_name": "SoS",
   "language": "sos",
   "name": "sos"
  },
  "language_info": {
   "codemirror_mode": "sos",
   "file_extension": ".sos",
   "mimetype": "text/x-sos",
   "name": "sos",
   "nbconvert_exporter": "sos_notebook.converter.SoS_Exporter",
   "pygments_lexer": "sos"
  },
  "sos": {
   "kernels": [
    [
     "Haskell",
     "haskell",
     "haskell",
     "",
     ""
    ],
    [
     "Python 3 (ipykernel)",
     "python3",
     "python3",
     "",
     {
      "name": "ipython",
      "version": 3
     }
    ],
    [
     "Scala",
     "scala",
     "scala",
     "",
     "text/x-scala"
    ]
   ],
   "panel": {
    "displayed": true,
    "height": 0
   },
   "version": "0.23.4"
  }
 },
 "nbformat": 4,
 "nbformat_minor": 5
}
